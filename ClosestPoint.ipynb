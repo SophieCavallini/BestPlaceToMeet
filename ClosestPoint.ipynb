{
  "nbformat": 4,
  "nbformat_minor": 0,
  "metadata": {
    "colab": {
      "name": "ClosestPoint.ipynb",
      "provenance": []
    },
    "kernelspec": {
      "name": "python3",
      "display_name": "Python 3"
    },
    "language_info": {
      "name": "python"
    }
  },
  "cells": [
    {
      "cell_type": "code",
      "execution_count": 38,
      "metadata": {
        "colab": {
          "base_uri": "https://localhost:8080/"
        },
        "id": "NCVihOFzJ_tJ",
        "outputId": "18824e2c-f2d4-48a7-b0c1-3253cc30c797"
      },
      "outputs": [
        {
          "output_type": "stream",
          "name": "stdout",
          "text": [
            "Requirement already satisfied: geopy in /usr/local/lib/python3.7/dist-packages (1.17.0)\n",
            "Requirement already satisfied: geographiclib<2,>=1.49 in /usr/local/lib/python3.7/dist-packages (from geopy) (1.52)\n"
          ]
        }
      ],
      "source": [
        "pip install geopy"
      ]
    },
    {
      "cell_type": "code",
      "source": [
        "import numpy as np\n",
        "import math\n",
        "import cmath\n",
        "from geopy.geocoders import Nominatim\n",
        "geoLoc = Nominatim(user_agent=\"GetLoc\")"
      ],
      "metadata": {
        "id": "XV9fIok2T9Sy"
      },
      "execution_count": 40,
      "outputs": []
    },
    {
      "cell_type": "code",
      "source": [
        "TuDelft = [4.3736, 52.0022]\n",
        "EPFL = [6.5668, 46.5191]\n",
        "ETH = [8.5476, 47.3764]\n",
        "TUM = [11.5679, 48.1497]\n",
        "PoliMi = [9.2273, 45.4780]\n",
        "uniCoordinates = [TuDelft, EPFL, ETH, TUM, PoliMi]"
      ],
      "metadata": {
        "id": "_AkcAs__Lhg8"
      },
      "execution_count": 8,
      "outputs": []
    },
    {
      "cell_type": "code",
      "source": [
        "len(uniCoordinates)\n",
        "uniCoordinates[4][0]"
      ],
      "metadata": {
        "colab": {
          "base_uri": "https://localhost:8080/"
        },
        "id": "i-0A1NYlNgGN",
        "outputId": "82888e64-894e-42d2-9589-5de95d679f7f"
      },
      "execution_count": 17,
      "outputs": [
        {
          "output_type": "execute_result",
          "data": {
            "text/plain": [
              "9.2273"
            ]
          },
          "metadata": {},
          "execution_count": 17
        }
      ]
    },
    {
      "cell_type": "code",
      "source": [
        "siciliaDistribution = [0,0,2,1,2]"
      ],
      "metadata": {
        "id": "6wR32gjOMFad"
      },
      "execution_count": 20,
      "outputs": []
    },
    {
      "cell_type": "code",
      "source": [
        "def BestPlace(placeCoordinates, peopleDistribution, NvsE):\n",
        "  totalDistance = 0\n",
        "  for i in range(0, len(placeCoordinates)):\n",
        "    totalDistance = totalDistance + placeCoordinates[i][NvsE]*peopleDistribution[i]\n",
        "  place = totalDistance/len(peopleDistribution)\n",
        "  return place"
      ],
      "metadata": {
        "id": "hQv28CeXMeyh"
      },
      "execution_count": 22,
      "outputs": []
    },
    {
      "cell_type": "code",
      "source": [
        "xCoordinate = BestPlace(uniCoordinates, siciliaDistribution, 0)\n",
        "yCoordinate = BestPlace(uniCoordinates, siciliaDistribution, 1)\n",
        "print(yCoordinate, xCoordinate)"
      ],
      "metadata": {
        "colab": {
          "base_uri": "https://localhost:8080/"
        },
        "id": "VYgIw9vgO22f",
        "outputId": "87fc0d83-458e-4ce9-c44e-f55ebecd3de2"
      },
      "execution_count": 27,
      "outputs": [
        {
          "output_type": "stream",
          "name": "stdout",
          "text": [
            "46.771699999999996 9.42354\n"
          ]
        }
      ]
    },
    {
      "cell_type": "code",
      "source": [
        "def listToString(s): \n",
        "    \n",
        "    # initialize an empty string\n",
        "    str1 = \"\" \n",
        "    \n",
        "    # traverse in the string  \n",
        "    for ele in s: \n",
        "        str1 += ele\n",
        "        str1 += \", \"  \n",
        "    \n",
        "    # return string  \n",
        "    return str1 "
      ],
      "metadata": {
        "id": "TjmMdEDUV54K"
      },
      "execution_count": 47,
      "outputs": []
    },
    {
      "cell_type": "code",
      "source": [
        "GioSoDistribution = [[2,0,0,1,2],[0,2,0,1,2],[0,0,2,1,2],[1,1,0,1,2],[1,0,1,1,2],[0,1,1,1,2]]\n",
        "AleGiuMotDistribution = [1,2]\n",
        "for i in range(0, len(GioSoDistribution)):\n",
        "  xCoor = BestPlace(uniCoordinates, GioSoDistribution[i], 0)\n",
        "  yCoor = BestPlace(uniCoordinates, GioSoDistribution[i], 1)\n",
        "  coorString = ' '.join([str(yCoor),\", \",str(xCoor)])\n",
        "  locname = geoLoc.reverse(coorString)\n",
        "  print('----------------')\n",
        "  print('TuDelft:',GioSoDistribution[i][0],', EPFL:',GioSoDistribution[i][1],', ETH:',GioSoDistribution[i][2],', TUM:',GioSoDistribution[i][3],', PoliMi',GioSoDistribution[i][4])\n",
        "  print(locname.address)"
      ],
      "metadata": {
        "colab": {
          "base_uri": "https://localhost:8080/"
        },
        "id": "AlQii25wPutJ",
        "outputId": "17fbbb1d-af71-4579-dcb5-4ae56b1e5fbb"
      },
      "execution_count": 55,
      "outputs": [
        {
          "output_type": "stream",
          "name": "stdout",
          "text": [
            "----------------\n",
            "TuDelft: 2 , EPFL: 0 , ETH: 0 , TUM: 1 , PoliMi 2\n",
            "École Maternelle et Élémentaire du Centre, Rue Ring, Hœnheim, Strasbourg, Bas-Rhin, Grand Est, France métropolitaine, 67800, France\n",
            "----------------\n",
            "TuDelft: 0 , EPFL: 2 , ETH: 0 , TUM: 1 , PoliMi 2\n",
            "Veglia, Peccia, Lavizzara, Circolo di Lavizzara, Distretto di Vallemaggia, Ticino, 6695, Schweiz/Suisse/Svizzera/Svizra\n",
            "----------------\n",
            "TuDelft: 0 , EPFL: 0 , ETH: 2 , TUM: 1 , PoliMi 2\n",
            "Polenweg, Ravetg, Rothenbrunnen, Viamala, Graubünden/Grischun/Grigioni, 7405, Schweiz/Suisse/Svizzera/Svizra\n",
            "----------------\n",
            "TuDelft: 1 , EPFL: 1 , ETH: 0 , TUM: 1 , PoliMi 2\n",
            "Untere-Erstiweg, Villigen, Bezirk Brugg, Aargau, 5236, Schweiz/Suisse/Svizzera/Svizra\n",
            "----------------\n",
            "TuDelft: 1 , EPFL: 0 , ETH: 1 , TUM: 1 , PoliMi 2\n",
            "21, Benzeweg, Beringen, Schaffhausen, 8222, Schweiz/Suisse/Svizzera/Svizra\n",
            "----------------\n",
            "TuDelft: 0 , EPFL: 1 , ETH: 1 , TUM: 1 , PoliMi 2\n",
            "Lumnezia, Surselva, Graubünden/Grischun/Grigioni, Schweiz/Suisse/Svizzera/Svizra\n"
          ]
        }
      ]
    }
  ]
}